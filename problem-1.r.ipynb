{
 "cells": [
  {
   "cell_type": "code",
   "execution_count": 1,
   "id": "4692268c-1a29-456e-bb07-c0abad4c55fc",
   "metadata": {
    "vscode": {
     "languageId": "r"
    }
   },
   "outputs": [
    {
     "data": {
      "text/html": [
       "<style>\n",
       ".list-inline {list-style: none; margin:0; padding: 0}\n",
       ".list-inline>li {display: inline-block}\n",
       ".list-inline>li:not(:last-child)::after {content: \"\\00b7\"; padding: 0 .5ex}\n",
       "</style>\n",
       "<ol class=list-inline><li>42</li><li>74</li><li>40</li><li>60</li><li>82</li><li>115</li><li>41</li><li>61</li><li>75</li><li>83</li><li>63</li><li>53</li><li>110</li><li>76</li><li>84</li><li>50</li><li>67</li><li>65</li><li>78</li><li>77</li><li>56</li><li>95</li><li>68</li><li>69</li><li>104</li><li>80</li><li>79</li><li>79</li><li>54</li><li>73</li><li>59</li><li>81</li><li>100</li><li>66</li><li>49</li><li>77</li><li>90</li><li>76</li><li>76</li><li>42</li><li>64</li><li>69</li><li>70</li><li>80</li><li>72</li><li>50</li><li>79</li><li>52</li><li>96</li><li>96</li><li>51</li><li>86</li><li>78</li><li>94</li><li>71</li></ol>\n"
      ],
      "text/latex": [
       "\\begin{enumerate*}\n",
       "\\item 42\n",
       "\\item 74\n",
       "\\item 40\n",
       "\\item 60\n",
       "\\item 82\n",
       "\\item 115\n",
       "\\item 41\n",
       "\\item 61\n",
       "\\item 75\n",
       "\\item 83\n",
       "\\item 63\n",
       "\\item 53\n",
       "\\item 110\n",
       "\\item 76\n",
       "\\item 84\n",
       "\\item 50\n",
       "\\item 67\n",
       "\\item 65\n",
       "\\item 78\n",
       "\\item 77\n",
       "\\item 56\n",
       "\\item 95\n",
       "\\item 68\n",
       "\\item 69\n",
       "\\item 104\n",
       "\\item 80\n",
       "\\item 79\n",
       "\\item 79\n",
       "\\item 54\n",
       "\\item 73\n",
       "\\item 59\n",
       "\\item 81\n",
       "\\item 100\n",
       "\\item 66\n",
       "\\item 49\n",
       "\\item 77\n",
       "\\item 90\n",
       "\\item 76\n",
       "\\item 76\n",
       "\\item 42\n",
       "\\item 64\n",
       "\\item 69\n",
       "\\item 70\n",
       "\\item 80\n",
       "\\item 72\n",
       "\\item 50\n",
       "\\item 79\n",
       "\\item 52\n",
       "\\item 96\n",
       "\\item 96\n",
       "\\item 51\n",
       "\\item 86\n",
       "\\item 78\n",
       "\\item 94\n",
       "\\item 71\n",
       "\\end{enumerate*}\n"
      ],
      "text/markdown": [
       "1. 42\n",
       "2. 74\n",
       "3. 40\n",
       "4. 60\n",
       "5. 82\n",
       "6. 115\n",
       "7. 41\n",
       "8. 61\n",
       "9. 75\n",
       "10. 83\n",
       "11. 63\n",
       "12. 53\n",
       "13. 110\n",
       "14. 76\n",
       "15. 84\n",
       "16. 50\n",
       "17. 67\n",
       "18. 65\n",
       "19. 78\n",
       "20. 77\n",
       "21. 56\n",
       "22. 95\n",
       "23. 68\n",
       "24. 69\n",
       "25. 104\n",
       "26. 80\n",
       "27. 79\n",
       "28. 79\n",
       "29. 54\n",
       "30. 73\n",
       "31. 59\n",
       "32. 81\n",
       "33. 100\n",
       "34. 66\n",
       "35. 49\n",
       "36. 77\n",
       "37. 90\n",
       "38. 76\n",
       "39. 76\n",
       "40. 42\n",
       "41. 64\n",
       "42. 69\n",
       "43. 70\n",
       "44. 80\n",
       "45. 72\n",
       "46. 50\n",
       "47. 79\n",
       "48. 52\n",
       "49. 96\n",
       "50. 96\n",
       "51. 51\n",
       "52. 86\n",
       "53. 78\n",
       "54. 94\n",
       "55. 71\n",
       "\n",
       "\n"
      ],
      "text/plain": [
       " [1]  42  74  40  60  82 115  41  61  75  83  63  53 110  76  84  50  67  65  78\n",
       "[20]  77  56  95  68  69 104  80  79  79  54  73  59  81 100  66  49  77  90  76\n",
       "[39]  76  42  64  69  70  80  72  50  79  52  96  96  51  86  78  94  71"
      ]
     },
     "metadata": {},
     "output_type": "display_data"
    },
    {
     "data": {
      "text/html": [
       "55"
      ],
      "text/latex": [
       "55"
      ],
      "text/markdown": [
       "55"
      ],
      "text/plain": [
       "[1] 55"
      ]
     },
     "metadata": {},
     "output_type": "display_data"
    }
   ],
   "source": [
    "# Load the weight data\n",
    "weights <- c(42, 74, 40, 60, 82, 115, 41, 61, 75, 83, 63, 53, 110, 76, 84, 50, 67, 65, 78, 77, 56, 95, 68, 69, 104, 80, 79, 79, 54, 73, 59, 81, 100, 66, 49, 77, 90, 76, 76, 42, 64, 69, 70, 80, 72, 50, 79, 52, 96, 96, 51, 86, 78, 94, 71)\n",
    "\n",
    "weights\n",
    "length(weights)\n"
   ]
  },
  {
   "cell_type": "code",
   "execution_count": 2,
   "id": "627df680-f37c-4537-a8fd-9e6269832a2f",
   "metadata": {
    "vscode": {
     "languageId": "r"
    }
   },
   "outputs": [
    {
     "data": {
      "text/html": [
       "42"
      ],
      "text/latex": [
       "42"
      ],
      "text/markdown": [
       "42"
      ],
      "text/plain": [
       "[1] 42"
      ]
     },
     "metadata": {},
     "output_type": "display_data"
    },
    {
     "data": {
      "text/html": [
       "<style>\n",
       ".list-inline {list-style: none; margin:0; padding: 0}\n",
       ".list-inline>li {display: inline-block}\n",
       ".list-inline>li:not(:last-child)::after {content: \"\\00b7\"; padding: 0 .5ex}\n",
       "</style>\n",
       "<ol class=list-inline><li>42</li><li>74</li><li>40</li><li>60</li><li>82</li></ol>\n"
      ],
      "text/latex": [
       "\\begin{enumerate*}\n",
       "\\item 42\n",
       "\\item 74\n",
       "\\item 40\n",
       "\\item 60\n",
       "\\item 82\n",
       "\\end{enumerate*}\n"
      ],
      "text/markdown": [
       "1. 42\n",
       "2. 74\n",
       "3. 40\n",
       "4. 60\n",
       "5. 82\n",
       "\n",
       "\n"
      ],
      "text/plain": [
       "[1] 42 74 40 60 82"
      ]
     },
     "metadata": {},
     "output_type": "display_data"
    },
    {
     "data": {
      "text/html": [
       "<style>\n",
       ".list-inline {list-style: none; margin:0; padding: 0}\n",
       ".list-inline>li {display: inline-block}\n",
       ".list-inline>li:not(:last-child)::after {content: \"\\00b7\"; padding: 0 .5ex}\n",
       "</style>\n",
       "<ol class=list-inline><li>42</li><li>94</li><li>71</li></ol>\n"
      ],
      "text/latex": [
       "\\begin{enumerate*}\n",
       "\\item 42\n",
       "\\item 94\n",
       "\\item 71\n",
       "\\end{enumerate*}\n"
      ],
      "text/markdown": [
       "1. 42\n",
       "2. 94\n",
       "3. 71\n",
       "\n",
       "\n"
      ],
      "text/plain": [
       "[1] 42 94 71"
      ]
     },
     "metadata": {},
     "output_type": "display_data"
    }
   ],
   "source": [
    "weights[1]\n",
    "weights[1:5]\n",
    "weights[c(1, 54, 55)]\n"
   ]
  },
  {
   "cell_type": "code",
   "execution_count": 3,
   "id": "343cd2f3-b8ff-4b94-97df-2c3274c9fec0",
   "metadata": {
    "vscode": {
     "languageId": "r"
    }
   },
   "outputs": [
    {
     "data": {
      "text/html": [
       "<style>\n",
       ".list-inline {list-style: none; margin:0; padding: 0}\n",
       ".list-inline>li {display: inline-block}\n",
       ".list-inline>li:not(:last-child)::after {content: \"\\00b7\"; padding: 0 .5ex}\n",
       "</style>\n",
       "<ol class=list-inline><li>40</li><li>115</li></ol>\n"
      ],
      "text/latex": [
       "\\begin{enumerate*}\n",
       "\\item 40\n",
       "\\item 115\n",
       "\\end{enumerate*}\n"
      ],
      "text/markdown": [
       "1. 40\n",
       "2. 115\n",
       "\n",
       "\n"
      ],
      "text/plain": [
       "[1]  40 115"
      ]
     },
     "metadata": {},
     "output_type": "display_data"
    }
   ],
   "source": [
    "# Find the range of the data\n",
    "range(weights)\n"
   ]
  },
  {
   "cell_type": "code",
   "execution_count": 4,
   "id": "e30d4f55-9ba5-40b1-a2ad-d87650c4c7e7",
   "metadata": {
    "vscode": {
     "languageId": "r"
    }
   },
   "outputs": [
    {
     "data": {
      "text/html": [
       "<style>\n",
       ".list-inline {list-style: none; margin:0; padding: 0}\n",
       ".list-inline>li {display: inline-block}\n",
       ".list-inline>li:not(:last-child)::after {content: \"\\00b7\"; padding: 0 .5ex}\n",
       "</style>\n",
       "<ol class=list-inline><li>40</li><li>50</li><li>60</li><li>70</li><li>80</li><li>90</li><li>100</li><li>110</li><li>120</li></ol>\n"
      ],
      "text/latex": [
       "\\begin{enumerate*}\n",
       "\\item 40\n",
       "\\item 50\n",
       "\\item 60\n",
       "\\item 70\n",
       "\\item 80\n",
       "\\item 90\n",
       "\\item 100\n",
       "\\item 110\n",
       "\\item 120\n",
       "\\end{enumerate*}\n"
      ],
      "text/markdown": [
       "1. 40\n",
       "2. 50\n",
       "3. 60\n",
       "4. 70\n",
       "5. 80\n",
       "6. 90\n",
       "7. 100\n",
       "8. 110\n",
       "9. 120\n",
       "\n",
       "\n"
      ],
      "text/plain": [
       "[1]  40  50  60  70  80  90 100 110 120"
      ]
     },
     "metadata": {},
     "output_type": "display_data"
    }
   ],
   "source": [
    "# Create class intervals for the data\n",
    "breaks <- seq(40, 120, by = 10)\n",
    "breaks\n"
   ]
  },
  {
   "cell_type": "code",
   "execution_count": 5,
   "id": "81bb0b49-846d-408d-9b3f-ceaee56fe1d9",
   "metadata": {
    "vscode": {
     "languageId": "r"
    }
   },
   "outputs": [
    {
     "data": {
      "text/html": [
       "<style>\n",
       ".list-inline {list-style: none; margin:0; padding: 0}\n",
       ".list-inline>li {display: inline-block}\n",
       ".list-inline>li:not(:last-child)::after {content: \"\\00b7\"; padding: 0 .5ex}\n",
       "</style>\n",
       "<ol class=list-inline><li>[40,50)</li><li>[70,80)</li><li>[40,50)</li><li>[60,70)</li><li>[80,90)</li><li>[110,120)</li><li>[40,50)</li><li>[60,70)</li><li>[70,80)</li><li>[80,90)</li><li>[60,70)</li><li>[50,60)</li><li>[110,120)</li><li>[70,80)</li><li>[80,90)</li><li>[50,60)</li><li>[60,70)</li><li>[60,70)</li><li>[70,80)</li><li>[70,80)</li><li>[50,60)</li><li>[90,100)</li><li>[60,70)</li><li>[60,70)</li><li>[100,110)</li><li>[80,90)</li><li>[70,80)</li><li>[70,80)</li><li>[50,60)</li><li>[70,80)</li><li>[50,60)</li><li>[80,90)</li><li>[100,110)</li><li>[60,70)</li><li>[40,50)</li><li>[70,80)</li><li>[90,100)</li><li>[70,80)</li><li>[70,80)</li><li>[40,50)</li><li>[60,70)</li><li>[60,70)</li><li>[70,80)</li><li>[80,90)</li><li>[70,80)</li><li>[50,60)</li><li>[70,80)</li><li>[50,60)</li><li>[90,100)</li><li>[90,100)</li><li>[50,60)</li><li>[80,90)</li><li>[70,80)</li><li>[90,100)</li><li>[70,80)</li></ol>\n",
       "\n",
       "<details>\n",
       "\t<summary style=display:list-item;cursor:pointer>\n",
       "\t\t<strong>Levels</strong>:\n",
       "\t</summary>\n",
       "\t<style>\n",
       "\t.list-inline {list-style: none; margin:0; padding: 0}\n",
       "\t.list-inline>li {display: inline-block}\n",
       "\t.list-inline>li:not(:last-child)::after {content: \"\\00b7\"; padding: 0 .5ex}\n",
       "\t</style>\n",
       "\t<ol class=list-inline><li>'[40,50)'</li><li>'[50,60)'</li><li>'[60,70)'</li><li>'[70,80)'</li><li>'[80,90)'</li><li>'[90,100)'</li><li>'[100,110)'</li><li>'[110,120)'</li></ol>\n",
       "</details>"
      ],
      "text/latex": [
       "\\begin{enumerate*}\n",
       "\\item {[}40,50)\n",
       "\\item {[}70,80)\n",
       "\\item {[}40,50)\n",
       "\\item {[}60,70)\n",
       "\\item {[}80,90)\n",
       "\\item {[}110,120)\n",
       "\\item {[}40,50)\n",
       "\\item {[}60,70)\n",
       "\\item {[}70,80)\n",
       "\\item {[}80,90)\n",
       "\\item {[}60,70)\n",
       "\\item {[}50,60)\n",
       "\\item {[}110,120)\n",
       "\\item {[}70,80)\n",
       "\\item {[}80,90)\n",
       "\\item {[}50,60)\n",
       "\\item {[}60,70)\n",
       "\\item {[}60,70)\n",
       "\\item {[}70,80)\n",
       "\\item {[}70,80)\n",
       "\\item {[}50,60)\n",
       "\\item {[}90,100)\n",
       "\\item {[}60,70)\n",
       "\\item {[}60,70)\n",
       "\\item {[}100,110)\n",
       "\\item {[}80,90)\n",
       "\\item {[}70,80)\n",
       "\\item {[}70,80)\n",
       "\\item {[}50,60)\n",
       "\\item {[}70,80)\n",
       "\\item {[}50,60)\n",
       "\\item {[}80,90)\n",
       "\\item {[}100,110)\n",
       "\\item {[}60,70)\n",
       "\\item {[}40,50)\n",
       "\\item {[}70,80)\n",
       "\\item {[}90,100)\n",
       "\\item {[}70,80)\n",
       "\\item {[}70,80)\n",
       "\\item {[}40,50)\n",
       "\\item {[}60,70)\n",
       "\\item {[}60,70)\n",
       "\\item {[}70,80)\n",
       "\\item {[}80,90)\n",
       "\\item {[}70,80)\n",
       "\\item {[}50,60)\n",
       "\\item {[}70,80)\n",
       "\\item {[}50,60)\n",
       "\\item {[}90,100)\n",
       "\\item {[}90,100)\n",
       "\\item {[}50,60)\n",
       "\\item {[}80,90)\n",
       "\\item {[}70,80)\n",
       "\\item {[}90,100)\n",
       "\\item {[}70,80)\n",
       "\\end{enumerate*}\n",
       "\n",
       "\\emph{Levels}: \\begin{enumerate*}\n",
       "\\item '{[}40,50)'\n",
       "\\item '{[}50,60)'\n",
       "\\item '{[}60,70)'\n",
       "\\item '{[}70,80)'\n",
       "\\item '{[}80,90)'\n",
       "\\item '{[}90,100)'\n",
       "\\item '{[}100,110)'\n",
       "\\item '{[}110,120)'\n",
       "\\end{enumerate*}\n"
      ],
      "text/markdown": [
       "1. [40,50)\n",
       "2. [70,80)\n",
       "3. [40,50)\n",
       "4. [60,70)\n",
       "5. [80,90)\n",
       "6. [110,120)\n",
       "7. [40,50)\n",
       "8. [60,70)\n",
       "9. [70,80)\n",
       "10. [80,90)\n",
       "11. [60,70)\n",
       "12. [50,60)\n",
       "13. [110,120)\n",
       "14. [70,80)\n",
       "15. [80,90)\n",
       "16. [50,60)\n",
       "17. [60,70)\n",
       "18. [60,70)\n",
       "19. [70,80)\n",
       "20. [70,80)\n",
       "21. [50,60)\n",
       "22. [90,100)\n",
       "23. [60,70)\n",
       "24. [60,70)\n",
       "25. [100,110)\n",
       "26. [80,90)\n",
       "27. [70,80)\n",
       "28. [70,80)\n",
       "29. [50,60)\n",
       "30. [70,80)\n",
       "31. [50,60)\n",
       "32. [80,90)\n",
       "33. [100,110)\n",
       "34. [60,70)\n",
       "35. [40,50)\n",
       "36. [70,80)\n",
       "37. [90,100)\n",
       "38. [70,80)\n",
       "39. [70,80)\n",
       "40. [40,50)\n",
       "41. [60,70)\n",
       "42. [60,70)\n",
       "43. [70,80)\n",
       "44. [80,90)\n",
       "45. [70,80)\n",
       "46. [50,60)\n",
       "47. [70,80)\n",
       "48. [50,60)\n",
       "49. [90,100)\n",
       "50. [90,100)\n",
       "51. [50,60)\n",
       "52. [80,90)\n",
       "53. [70,80)\n",
       "54. [90,100)\n",
       "55. [70,80)\n",
       "\n",
       "\n",
       "\n",
       "**Levels**: 1. '[40,50)'\n",
       "2. '[50,60)'\n",
       "3. '[60,70)'\n",
       "4. '[70,80)'\n",
       "5. '[80,90)'\n",
       "6. '[90,100)'\n",
       "7. '[100,110)'\n",
       "8. '[110,120)'\n",
       "\n",
       "\n"
      ],
      "text/plain": [
       " [1] [40,50)   [70,80)   [40,50)   [60,70)   [80,90)   [110,120) [40,50)  \n",
       " [8] [60,70)   [70,80)   [80,90)   [60,70)   [50,60)   [110,120) [70,80)  \n",
       "[15] [80,90)   [50,60)   [60,70)   [60,70)   [70,80)   [70,80)   [50,60)  \n",
       "[22] [90,100)  [60,70)   [60,70)   [100,110) [80,90)   [70,80)   [70,80)  \n",
       "[29] [50,60)   [70,80)   [50,60)   [80,90)   [100,110) [60,70)   [40,50)  \n",
       "[36] [70,80)   [90,100)  [70,80)   [70,80)   [40,50)   [60,70)   [60,70)  \n",
       "[43] [70,80)   [80,90)   [70,80)   [50,60)   [70,80)   [50,60)   [90,100) \n",
       "[50] [90,100)  [50,60)   [80,90)   [70,80)   [90,100)  [70,80)  \n",
       "8 Levels: [40,50) [50,60) [60,70) [70,80) [80,90) [90,100) ... [110,120)"
      ]
     },
     "metadata": {},
     "output_type": "display_data"
    },
    {
     "data": {
      "text/html": [
       "<style>\n",
       ".list-inline {list-style: none; margin:0; padding: 0}\n",
       ".list-inline>li {display: inline-block}\n",
       ".list-inline>li:not(:last-child)::after {content: \"\\00b7\"; padding: 0 .5ex}\n",
       "</style>\n",
       "<ol class=list-inline><li>42</li><li>74</li><li>40</li><li>60</li><li>82</li><li>115</li><li>41</li><li>61</li><li>75</li><li>83</li><li>63</li><li>53</li><li>110</li><li>76</li><li>84</li><li>50</li><li>67</li><li>65</li><li>78</li><li>77</li><li>56</li><li>95</li><li>68</li><li>69</li><li>104</li><li>80</li><li>79</li><li>79</li><li>54</li><li>73</li><li>59</li><li>81</li><li>100</li><li>66</li><li>49</li><li>77</li><li>90</li><li>76</li><li>76</li><li>42</li><li>64</li><li>69</li><li>70</li><li>80</li><li>72</li><li>50</li><li>79</li><li>52</li><li>96</li><li>96</li><li>51</li><li>86</li><li>78</li><li>94</li><li>71</li></ol>\n"
      ],
      "text/latex": [
       "\\begin{enumerate*}\n",
       "\\item 42\n",
       "\\item 74\n",
       "\\item 40\n",
       "\\item 60\n",
       "\\item 82\n",
       "\\item 115\n",
       "\\item 41\n",
       "\\item 61\n",
       "\\item 75\n",
       "\\item 83\n",
       "\\item 63\n",
       "\\item 53\n",
       "\\item 110\n",
       "\\item 76\n",
       "\\item 84\n",
       "\\item 50\n",
       "\\item 67\n",
       "\\item 65\n",
       "\\item 78\n",
       "\\item 77\n",
       "\\item 56\n",
       "\\item 95\n",
       "\\item 68\n",
       "\\item 69\n",
       "\\item 104\n",
       "\\item 80\n",
       "\\item 79\n",
       "\\item 79\n",
       "\\item 54\n",
       "\\item 73\n",
       "\\item 59\n",
       "\\item 81\n",
       "\\item 100\n",
       "\\item 66\n",
       "\\item 49\n",
       "\\item 77\n",
       "\\item 90\n",
       "\\item 76\n",
       "\\item 76\n",
       "\\item 42\n",
       "\\item 64\n",
       "\\item 69\n",
       "\\item 70\n",
       "\\item 80\n",
       "\\item 72\n",
       "\\item 50\n",
       "\\item 79\n",
       "\\item 52\n",
       "\\item 96\n",
       "\\item 96\n",
       "\\item 51\n",
       "\\item 86\n",
       "\\item 78\n",
       "\\item 94\n",
       "\\item 71\n",
       "\\end{enumerate*}\n"
      ],
      "text/markdown": [
       "1. 42\n",
       "2. 74\n",
       "3. 40\n",
       "4. 60\n",
       "5. 82\n",
       "6. 115\n",
       "7. 41\n",
       "8. 61\n",
       "9. 75\n",
       "10. 83\n",
       "11. 63\n",
       "12. 53\n",
       "13. 110\n",
       "14. 76\n",
       "15. 84\n",
       "16. 50\n",
       "17. 67\n",
       "18. 65\n",
       "19. 78\n",
       "20. 77\n",
       "21. 56\n",
       "22. 95\n",
       "23. 68\n",
       "24. 69\n",
       "25. 104\n",
       "26. 80\n",
       "27. 79\n",
       "28. 79\n",
       "29. 54\n",
       "30. 73\n",
       "31. 59\n",
       "32. 81\n",
       "33. 100\n",
       "34. 66\n",
       "35. 49\n",
       "36. 77\n",
       "37. 90\n",
       "38. 76\n",
       "39. 76\n",
       "40. 42\n",
       "41. 64\n",
       "42. 69\n",
       "43. 70\n",
       "44. 80\n",
       "45. 72\n",
       "46. 50\n",
       "47. 79\n",
       "48. 52\n",
       "49. 96\n",
       "50. 96\n",
       "51. 51\n",
       "52. 86\n",
       "53. 78\n",
       "54. 94\n",
       "55. 71\n",
       "\n",
       "\n"
      ],
      "text/plain": [
       " [1]  42  74  40  60  82 115  41  61  75  83  63  53 110  76  84  50  67  65  78\n",
       "[20]  77  56  95  68  69 104  80  79  79  54  73  59  81 100  66  49  77  90  76\n",
       "[39]  76  42  64  69  70  80  72  50  79  52  96  96  51  86  78  94  71"
      ]
     },
     "metadata": {},
     "output_type": "display_data"
    }
   ],
   "source": [
    "# Assign each weight to its respective class interval\n",
    "weights_cut <- cut(weights, breaks, right = FALSE)\n",
    "weights_cut\n",
    "weights\n"
   ]
  },
  {
   "cell_type": "code",
   "execution_count": 6,
   "id": "1cd5d496-379c-4fe3-8ced-1dbbf6cff0db",
   "metadata": {
    "vscode": {
     "languageId": "r"
    }
   },
   "outputs": [
    {
     "data": {
      "text/plain": [
       "weights_cut\n",
       "  [40,50)   [50,60)   [60,70)   [70,80)   [80,90)  [90,100) [100,110) [110,120) \n",
       "        5         8        10        16         7         5         2         2 "
      ]
     },
     "metadata": {},
     "output_type": "display_data"
    }
   ],
   "source": [
    "# Calculate the frequency for each class interval\n",
    "freq_table <- table(weights_cut)\n",
    "freq_table\n"
   ]
  },
  {
   "cell_type": "code",
   "execution_count": 7,
   "id": "b609c3c5-45c3-410b-a948-6e36e8ce6aec",
   "metadata": {
    "vscode": {
     "languageId": "r"
    }
   },
   "outputs": [
    {
     "data": {
      "image/png": "[encoded data removed]",
      "text/plain": [
       "Plot with title \"Histogram of Weights\""
      ]
     },
     "metadata": {
      "image/png": {
       "height": 420,
       "width": 420
      }
     },
     "output_type": "display_data"
    }
   ],
   "source": [
    "# Draw the histogram\n",
    "hist(weights,\n",
    "     breaks = breaks, right = FALSE, col = \"lightblue\",\n",
    "     main = \"Histogram of Weights\", xlab = \"Weight\", ylab = \"Frequency\"\n",
    ")\n"
   ]
  },
  {
   "cell_type": "code",
   "execution_count": 8,
   "id": "0cbc4f51-bd1a-4b10-b47c-62fc3f967c87",
   "metadata": {
    "vscode": {
     "languageId": "r"
    }
   },
   "outputs": [
    {
     "data": {
      "text/html": [
       "<style>\n",
       ".dl-inline {width: auto; margin:0; padding: 0}\n",
       ".dl-inline>dt, .dl-inline>dd {float: none; width: auto; display: inline-block}\n",
       ".dl-inline>dt::after {content: \":\\0020\"; padding-right: .5ex}\n",
       ".dl-inline>dt:not(:first-of-type) {padding-left: .5ex}\n",
       "</style><dl class=dl-inline><dt>[40,50)</dt><dd>5</dd><dt>[50,60)</dt><dd>13</dd><dt>[60,70)</dt><dd>23</dd><dt>[70,80)</dt><dd>39</dd><dt>[80,90)</dt><dd>46</dd><dt>[90,100)</dt><dd>51</dd><dt>[100,110)</dt><dd>53</dd><dt>[110,120)</dt><dd>55</dd></dl>\n"
      ],
      "text/latex": [
       "\\begin{description*}\n",
       "\\item[\\{{[}\\}40,50)] 5\n",
       "\\item[\\{{[}\\}50,60)] 13\n",
       "\\item[\\{{[}\\}60,70)] 23\n",
       "\\item[\\{{[}\\}70,80)] 39\n",
       "\\item[\\{{[}\\}80,90)] 46\n",
       "\\item[\\{{[}\\}90,100)] 51\n",
       "\\item[\\{{[}\\}100,110)] 53\n",
       "\\item[\\{{[}\\}110,120)] 55\n",
       "\\end{description*}\n"
      ],
      "text/markdown": [
       "[40,50)\n",
       ":   5[50,60)\n",
       ":   13[60,70)\n",
       ":   23[70,80)\n",
       ":   39[80,90)\n",
       ":   46[90,100)\n",
       ":   51[100,110)\n",
       ":   53[110,120)\n",
       ":   55\n",
       "\n"
      ],
      "text/plain": [
       "  [40,50)   [50,60)   [60,70)   [70,80)   [80,90)  [90,100) [100,110) [110,120) \n",
       "        5        13        23        39        46        51        53        55 "
      ]
     },
     "metadata": {},
     "output_type": "display_data"
    }
   ],
   "source": [
    "# Calculate the cumulative frequency\n",
    "cum_freq <- cumsum(freq_table)\n",
    "cum_freq\n"
   ]
  },
  {
   "cell_type": "code",
   "execution_count": 9,
   "id": "dc016c34-3ce8-4094-9d9e-b10472ed147e",
   "metadata": {
    "vscode": {
     "languageId": "r"
    }
   },
   "outputs": [
    {
     "data": {
      "image/png": "[encoded data removed]",
      "text/plain": [
       "Plot with title \"Cumulative Frequency Polygon\""
      ]
     },
     "metadata": {
      "image/png": {
       "height": 420,
       "width": 420
      }
     },
     "output_type": "display_data"
    }
   ],
   "source": [
    "# Create a cumulative frequency polygon\n",
    "plot(breaks, c(0, cum_freq),\n",
    "     type = \"s\",\n",
    "     main = \"Cumulative Frequency Polygon\", xlab = \"Weight\", ylab = \"Cumulative Frequency\"\n",
    ")\n"
   ]
  },
  {
   "cell_type": "code",
   "execution_count": 10,
   "id": "c8418b1c-1f31-4728-bb54-a82706be3177",
   "metadata": {
    "vscode": {
     "languageId": "r"
    }
   },
   "outputs": [
    {
     "data": {
      "text/html": [
       "74"
      ],
      "text/latex": [
       "74"
      ],
      "text/markdown": [
       "74"
      ],
      "text/plain": [
       "[1] 74"
      ]
     },
     "metadata": {},
     "output_type": "display_data"
    }
   ],
   "source": [
    "# Calculate the median\n",
    "median_weight <- median(weights)\n",
    "median_weight\n"
   ]
  },
  {
   "cell_type": "code",
   "execution_count": 11,
   "id": "fb9799e8-ddf0-4db4-90f5-a5ed15d632b8",
   "metadata": {
    "vscode": {
     "languageId": "r"
    }
   },
   "outputs": [
    {
     "data": {
      "text/html": [
       "<strong>[70,80):</strong> 4"
      ],
      "text/latex": [
       "\\textbf{\\{{[}\\}70,80):} 4"
      ],
      "text/markdown": [
       "**[70,80):** 4"
      ],
      "text/plain": [
       "[70,80) \n",
       "      4 "
      ]
     },
     "metadata": {},
     "output_type": "display_data"
    },
    {
     "data": {
      "text/html": [
       "70"
      ],
      "text/latex": [
       "70"
      ],
      "text/markdown": [
       "70"
      ],
      "text/plain": [
       "[1] 70"
      ]
     },
     "metadata": {},
     "output_type": "display_data"
    },
    {
     "data": {
      "text/html": [
       "80"
      ],
      "text/latex": [
       "80"
      ],
      "text/markdown": [
       "80"
      ],
      "text/plain": [
       "[1] 80"
      ]
     },
     "metadata": {},
     "output_type": "display_data"
    }
   ],
   "source": [
    "# Calculate the mode\n",
    "mode_class <- which.max(freq_table)\n",
    "mode_class\n",
    "\n",
    "mode_interval <- names(freq_table)[mode_class]\n",
    "mode_start <- as.numeric(sub(\"\\\\[([0-9]+),.*\", \"\\\\1\", mode_interval)) # Extract lower bound\n",
    "mode_end <- as.numeric(sub(\".*,([0-9]+)\\\\)\", \"\\\\1\", mode_interval)) # Extract upper bound\n",
    "\n",
    "mode_start\n",
    "mode_end\n"
   ]
  },
  {
   "cell_type": "code",
   "execution_count": 12,
   "id": "cf33c010-4088-4f1a-8484-e132bb2688b7",
   "metadata": {
    "vscode": {
     "languageId": "r"
    }
   },
   "outputs": [
    {
     "data": {
      "text/html": [
       "<style>\n",
       ".list-inline {list-style: none; margin:0; padding: 0}\n",
       ".list-inline>li {display: inline-block}\n",
       ".list-inline>li:not(:last-child)::after {content: \"\\00b7\"; padding: 0 .5ex}\n",
       "</style>\n",
       "<ol class=list-inline><li>42</li><li>74</li><li>40</li><li>60</li><li>82</li><li>115</li><li>41</li><li>61</li><li>75</li><li>83</li><li>63</li><li>53</li><li>110</li><li>76</li><li>84</li><li>50</li><li>67</li><li>65</li><li>78</li><li>77</li><li>56</li><li>95</li><li>68</li><li>69</li><li>104</li><li>80</li><li>79</li><li>79</li><li>54</li><li>73</li><li>59</li><li>81</li><li>100</li><li>66</li><li>49</li><li>77</li><li>90</li><li>76</li><li>76</li><li>42</li><li>64</li><li>69</li><li>70</li><li>80</li><li>72</li><li>50</li><li>79</li><li>52</li><li>96</li><li>96</li><li>51</li><li>86</li><li>78</li><li>94</li><li>71</li></ol>\n"
      ],
      "text/latex": [
       "\\begin{enumerate*}\n",
       "\\item 42\n",
       "\\item 74\n",
       "\\item 40\n",
       "\\item 60\n",
       "\\item 82\n",
       "\\item 115\n",
       "\\item 41\n",
       "\\item 61\n",
       "\\item 75\n",
       "\\item 83\n",
       "\\item 63\n",
       "\\item 53\n",
       "\\item 110\n",
       "\\item 76\n",
       "\\item 84\n",
       "\\item 50\n",
       "\\item 67\n",
       "\\item 65\n",
       "\\item 78\n",
       "\\item 77\n",
       "\\item 56\n",
       "\\item 95\n",
       "\\item 68\n",
       "\\item 69\n",
       "\\item 104\n",
       "\\item 80\n",
       "\\item 79\n",
       "\\item 79\n",
       "\\item 54\n",
       "\\item 73\n",
       "\\item 59\n",
       "\\item 81\n",
       "\\item 100\n",
       "\\item 66\n",
       "\\item 49\n",
       "\\item 77\n",
       "\\item 90\n",
       "\\item 76\n",
       "\\item 76\n",
       "\\item 42\n",
       "\\item 64\n",
       "\\item 69\n",
       "\\item 70\n",
       "\\item 80\n",
       "\\item 72\n",
       "\\item 50\n",
       "\\item 79\n",
       "\\item 52\n",
       "\\item 96\n",
       "\\item 96\n",
       "\\item 51\n",
       "\\item 86\n",
       "\\item 78\n",
       "\\item 94\n",
       "\\item 71\n",
       "\\end{enumerate*}\n"
      ],
      "text/markdown": [
       "1. 42\n",
       "2. 74\n",
       "3. 40\n",
       "4. 60\n",
       "5. 82\n",
       "6. 115\n",
       "7. 41\n",
       "8. 61\n",
       "9. 75\n",
       "10. 83\n",
       "11. 63\n",
       "12. 53\n",
       "13. 110\n",
       "14. 76\n",
       "15. 84\n",
       "16. 50\n",
       "17. 67\n",
       "18. 65\n",
       "19. 78\n",
       "20. 77\n",
       "21. 56\n",
       "22. 95\n",
       "23. 68\n",
       "24. 69\n",
       "25. 104\n",
       "26. 80\n",
       "27. 79\n",
       "28. 79\n",
       "29. 54\n",
       "30. 73\n",
       "31. 59\n",
       "32. 81\n",
       "33. 100\n",
       "34. 66\n",
       "35. 49\n",
       "36. 77\n",
       "37. 90\n",
       "38. 76\n",
       "39. 76\n",
       "40. 42\n",
       "41. 64\n",
       "42. 69\n",
       "43. 70\n",
       "44. 80\n",
       "45. 72\n",
       "46. 50\n",
       "47. 79\n",
       "48. 52\n",
       "49. 96\n",
       "50. 96\n",
       "51. 51\n",
       "52. 86\n",
       "53. 78\n",
       "54. 94\n",
       "55. 71\n",
       "\n",
       "\n"
      ],
      "text/plain": [
       " [1]  42  74  40  60  82 115  41  61  75  83  63  53 110  76  84  50  67  65  78\n",
       "[20]  77  56  95  68  69 104  80  79  79  54  73  59  81 100  66  49  77  90  76\n",
       "[39]  76  42  64  69  70  80  72  50  79  52  96  96  51  86  78  94  71"
      ]
     },
     "metadata": {},
     "output_type": "display_data"
    }
   ],
   "source": [
    "weights <- c(42, 74, 40, 60, 82, 115, 41, 61, 75, 83, 63, 53, 110, 76, 84, 50, 67, 65, 78, 77, 56, 95, 68, 69, 104, 80, 79, 79, 54, 73, 59, 81, 100, 66, 49, 77, 90, 76, 76, 42, 64, 69, 70, 80, 72, 50, 79, 52, 96, 96, 51, 86, 78, 94, 71)\n",
    "weights\n"
   ]
  },
  {
   "cell_type": "code",
   "execution_count": 13,
   "id": "30d0c022-e047-4915-8dab-06e9ed8f0c20",
   "metadata": {
    "vscode": {
     "languageId": "r"
    }
   },
   "outputs": [
    {
     "data": {
      "text/html": [
       "<style>\n",
       ".list-inline {list-style: none; margin:0; padding: 0}\n",
       ".list-inline>li {display: inline-block}\n",
       ".list-inline>li:not(:last-child)::after {content: \"\\00b7\"; padding: 0 .5ex}\n",
       "</style>\n",
       "<ol class=list-inline><li>40</li><li>115</li></ol>\n"
      ],
      "text/latex": [
       "\\begin{enumerate*}\n",
       "\\item 40\n",
       "\\item 115\n",
       "\\end{enumerate*}\n"
      ],
      "text/markdown": [
       "1. 40\n",
       "2. 115\n",
       "\n",
       "\n"
      ],
      "text/plain": [
       "[1]  40 115"
      ]
     },
     "metadata": {},
     "output_type": "display_data"
    }
   ],
   "source": [
    "range(weights)\n"
   ]
  },
  {
   "cell_type": "code",
   "execution_count": 14,
   "id": "def650f1-9cd7-4a46-8014-f6c42fed0c42",
   "metadata": {
    "vscode": {
     "languageId": "r"
    }
   },
   "outputs": [
    {
     "data": {
      "text/html": [
       "<style>\n",
       ".list-inline {list-style: none; margin:0; padding: 0}\n",
       ".list-inline>li {display: inline-block}\n",
       ".list-inline>li:not(:last-child)::after {content: \"\\00b7\"; padding: 0 .5ex}\n",
       "</style>\n",
       "<ol class=list-inline><li>40</li><li>50</li><li>60</li><li>70</li><li>80</li><li>90</li><li>100</li><li>110</li><li>120</li></ol>\n"
      ],
      "text/latex": [
       "\\begin{enumerate*}\n",
       "\\item 40\n",
       "\\item 50\n",
       "\\item 60\n",
       "\\item 70\n",
       "\\item 80\n",
       "\\item 90\n",
       "\\item 100\n",
       "\\item 110\n",
       "\\item 120\n",
       "\\end{enumerate*}\n"
      ],
      "text/markdown": [
       "1. 40\n",
       "2. 50\n",
       "3. 60\n",
       "4. 70\n",
       "5. 80\n",
       "6. 90\n",
       "7. 100\n",
       "8. 110\n",
       "9. 120\n",
       "\n",
       "\n"
      ],
      "text/plain": [
       "[1]  40  50  60  70  80  90 100 110 120"
      ]
     },
     "metadata": {},
     "output_type": "display_data"
    }
   ],
   "source": [
    "breaks <- seq(40, 120, by = 10)\n",
    "breaks\n"
   ]
  },
  {
   "cell_type": "code",
   "execution_count": 15,
   "id": "f07da443-0c8d-4141-b58b-761967c69a77",
   "metadata": {
    "vscode": {
     "languageId": "r"
    }
   },
   "outputs": [
    {
     "data": {
      "text/html": [
       "<style>\n",
       ".list-inline {list-style: none; margin:0; padding: 0}\n",
       ".list-inline>li {display: inline-block}\n",
       ".list-inline>li:not(:last-child)::after {content: \"\\00b7\"; padding: 0 .5ex}\n",
       "</style>\n",
       "<ol class=list-inline><li>[40,50)</li><li>[70,80)</li><li>[40,50)</li><li>[60,70)</li><li>[80,90)</li><li>[110,120)</li><li>[40,50)</li><li>[60,70)</li><li>[70,80)</li><li>[80,90)</li><li>[60,70)</li><li>[50,60)</li><li>[110,120)</li><li>[70,80)</li><li>[80,90)</li><li>[50,60)</li><li>[60,70)</li><li>[60,70)</li><li>[70,80)</li><li>[70,80)</li><li>[50,60)</li><li>[90,100)</li><li>[60,70)</li><li>[60,70)</li><li>[100,110)</li><li>[80,90)</li><li>[70,80)</li><li>[70,80)</li><li>[50,60)</li><li>[70,80)</li><li>[50,60)</li><li>[80,90)</li><li>[100,110)</li><li>[60,70)</li><li>[40,50)</li><li>[70,80)</li><li>[90,100)</li><li>[70,80)</li><li>[70,80)</li><li>[40,50)</li><li>[60,70)</li><li>[60,70)</li><li>[70,80)</li><li>[80,90)</li><li>[70,80)</li><li>[50,60)</li><li>[70,80)</li><li>[50,60)</li><li>[90,100)</li><li>[90,100)</li><li>[50,60)</li><li>[80,90)</li><li>[70,80)</li><li>[90,100)</li><li>[70,80)</li></ol>\n",
       "\n",
       "<details>\n",
       "\t<summary style=display:list-item;cursor:pointer>\n",
       "\t\t<strong>Levels</strong>:\n",
       "\t</summary>\n",
       "\t<style>\n",
       "\t.list-inline {list-style: none; margin:0; padding: 0}\n",
       "\t.list-inline>li {display: inline-block}\n",
       "\t.list-inline>li:not(:last-child)::after {content: \"\\00b7\"; padding: 0 .5ex}\n",
       "\t</style>\n",
       "\t<ol class=list-inline><li>'[40,50)'</li><li>'[50,60)'</li><li>'[60,70)'</li><li>'[70,80)'</li><li>'[80,90)'</li><li>'[90,100)'</li><li>'[100,110)'</li><li>'[110,120)'</li></ol>\n",
       "</details>"
      ],
      "text/latex": [
       "\\begin{enumerate*}\n",
       "\\item {[}40,50)\n",
       "\\item {[}70,80)\n",
       "\\item {[}40,50)\n",
       "\\item {[}60,70)\n",
       "\\item {[}80,90)\n",
       "\\item {[}110,120)\n",
       "\\item {[}40,50)\n",
       "\\item {[}60,70)\n",
       "\\item {[}70,80)\n",
       "\\item {[}80,90)\n",
       "\\item {[}60,70)\n",
       "\\item {[}50,60)\n",
       "\\item {[}110,120)\n",
       "\\item {[}70,80)\n",
       "\\item {[}80,90)\n",
       "\\item {[}50,60)\n",
       "\\item {[}60,70)\n",
       "\\item {[}60,70)\n",
       "\\item {[}70,80)\n",
       "\\item {[}70,80)\n",
       "\\item {[}50,60)\n",
       "\\item {[}90,100)\n",
       "\\item {[}60,70)\n",
       "\\item {[}60,70)\n",
       "\\item {[}100,110)\n",
       "\\item {[}80,90)\n",
       "\\item {[}70,80)\n",
       "\\item {[}70,80)\n",
       "\\item {[}50,60)\n",
       "\\item {[}70,80)\n",
       "\\item {[}50,60)\n",
       "\\item {[}80,90)\n",
       "\\item {[}100,110)\n",
       "\\item {[}60,70)\n",
       "\\item {[}40,50)\n",
       "\\item {[}70,80)\n",
       "\\item {[}90,100)\n",
       "\\item {[}70,80)\n",
       "\\item {[}70,80)\n",
       "\\item {[}40,50)\n",
       "\\item {[}60,70)\n",
       "\\item {[}60,70)\n",
       "\\item {[}70,80)\n",
       "\\item {[}80,90)\n",
       "\\item {[}70,80)\n",
       "\\item {[}50,60)\n",
       "\\item {[}70,80)\n",
       "\\item {[}50,60)\n",
       "\\item {[}90,100)\n",
       "\\item {[}90,100)\n",
       "\\item {[}50,60)\n",
       "\\item {[}80,90)\n",
       "\\item {[}70,80)\n",
       "\\item {[}90,100)\n",
       "\\item {[}70,80)\n",
       "\\end{enumerate*}\n",
       "\n",
       "\\emph{Levels}: \\begin{enumerate*}\n",
       "\\item '{[}40,50)'\n",
       "\\item '{[}50,60)'\n",
       "\\item '{[}60,70)'\n",
       "\\item '{[}70,80)'\n",
       "\\item '{[}80,90)'\n",
       "\\item '{[}90,100)'\n",
       "\\item '{[}100,110)'\n",
       "\\item '{[}110,120)'\n",
       "\\end{enumerate*}\n"
      ],
      "text/markdown": [
       "1. [40,50)\n",
       "2. [70,80)\n",
       "3. [40,50)\n",
       "4. [60,70)\n",
       "5. [80,90)\n",
       "6. [110,120)\n",
       "7. [40,50)\n",
       "8. [60,70)\n",
       "9. [70,80)\n",
       "10. [80,90)\n",
       "11. [60,70)\n",
       "12. [50,60)\n",
       "13. [110,120)\n",
       "14. [70,80)\n",
       "15. [80,90)\n",
       "16. [50,60)\n",
       "17. [60,70)\n",
       "18. [60,70)\n",
       "19. [70,80)\n",
       "20. [70,80)\n",
       "21. [50,60)\n",
       "22. [90,100)\n",
       "23. [60,70)\n",
       "24. [60,70)\n",
       "25. [100,110)\n",
       "26. [80,90)\n",
       "27. [70,80)\n",
       "28. [70,80)\n",
       "29. [50,60)\n",
       "30. [70,80)\n",
       "31. [50,60)\n",
       "32. [80,90)\n",
       "33. [100,110)\n",
       "34. [60,70)\n",
       "35. [40,50)\n",
       "36. [70,80)\n",
       "37. [90,100)\n",
       "38. [70,80)\n",
       "39. [70,80)\n",
       "40. [40,50)\n",
       "41. [60,70)\n",
       "42. [60,70)\n",
       "43. [70,80)\n",
       "44. [80,90)\n",
       "45. [70,80)\n",
       "46. [50,60)\n",
       "47. [70,80)\n",
       "48. [50,60)\n",
       "49. [90,100)\n",
       "50. [90,100)\n",
       "51. [50,60)\n",
       "52. [80,90)\n",
       "53. [70,80)\n",
       "54. [90,100)\n",
       "55. [70,80)\n",
       "\n",
       "\n",
       "\n",
       "**Levels**: 1. '[40,50)'\n",
       "2. '[50,60)'\n",
       "3. '[60,70)'\n",
       "4. '[70,80)'\n",
       "5. '[80,90)'\n",
       "6. '[90,100)'\n",
       "7. '[100,110)'\n",
       "8. '[110,120)'\n",
       "\n",
       "\n"
      ],
      "text/plain": [
       " [1] [40,50)   [70,80)   [40,50)   [60,70)   [80,90)   [110,120) [40,50)  \n",
       " [8] [60,70)   [70,80)   [80,90)   [60,70)   [50,60)   [110,120) [70,80)  \n",
       "[15] [80,90)   [50,60)   [60,70)   [60,70)   [70,80)   [70,80)   [50,60)  \n",
       "[22] [90,100)  [60,70)   [60,70)   [100,110) [80,90)   [70,80)   [70,80)  \n",
       "[29] [50,60)   [70,80)   [50,60)   [80,90)   [100,110) [60,70)   [40,50)  \n",
       "[36] [70,80)   [90,100)  [70,80)   [70,80)   [40,50)   [60,70)   [60,70)  \n",
       "[43] [70,80)   [80,90)   [70,80)   [50,60)   [70,80)   [50,60)   [90,100) \n",
       "[50] [90,100)  [50,60)   [80,90)   [70,80)   [90,100)  [70,80)  \n",
       "8 Levels: [40,50) [50,60) [60,70) [70,80) [80,90) [90,100) ... [110,120)"
      ]
     },
     "metadata": {},
     "output_type": "display_data"
    }
   ],
   "source": [
    "cut(weights, breaks, right = F)\n"
   ]
  },
  {
   "cell_type": "markdown",
   "id": "b002610a-f72c-4a2a-b275-eccca06a7c95",
   "metadata": {},
   "source": [
    "# final - from pdf"
   ]
  },
  {
   "cell_type": "code",
   "execution_count": 16,
   "id": "78a7ec24-ef54-4ff0-94aa-c05c10882f9b",
   "metadata": {
    "vscode": {
     "languageId": "r"
    }
   },
   "outputs": [
    {
     "data": {
      "text/html": [
       "<style>\n",
       ".list-inline {list-style: none; margin:0; padding: 0}\n",
       ".list-inline>li {display: inline-block}\n",
       ".list-inline>li:not(:last-child)::after {content: \"\\00b7\"; padding: 0 .5ex}\n",
       "</style>\n",
       "<ol class=list-inline><li>42</li><li>74</li><li>40</li><li>60</li><li>82</li><li>115</li><li>41</li><li>61</li><li>75</li><li>83</li><li>63</li><li>53</li><li>110</li><li>76</li><li>84</li><li>50</li><li>67</li><li>65</li><li>78</li><li>77</li><li>56</li><li>95</li><li>68</li><li>69</li><li>104</li><li>80</li><li>79</li><li>79</li><li>54</li><li>73</li><li>59</li><li>81</li><li>100</li><li>66</li><li>49</li><li>77</li><li>90</li><li>76</li><li>76</li><li>42</li><li>64</li><li>69</li><li>70</li><li>80</li><li>72</li><li>50</li><li>79</li><li>52</li><li>96</li><li>96</li><li>51</li><li>86</li><li>78</li><li>94</li><li>71</li></ol>\n"
      ],
      "text/latex": [
       "\\begin{enumerate*}\n",
       "\\item 42\n",
       "\\item 74\n",
       "\\item 40\n",
       "\\item 60\n",
       "\\item 82\n",
       "\\item 115\n",
       "\\item 41\n",
       "\\item 61\n",
       "\\item 75\n",
       "\\item 83\n",
       "\\item 63\n",
       "\\item 53\n",
       "\\item 110\n",
       "\\item 76\n",
       "\\item 84\n",
       "\\item 50\n",
       "\\item 67\n",
       "\\item 65\n",
       "\\item 78\n",
       "\\item 77\n",
       "\\item 56\n",
       "\\item 95\n",
       "\\item 68\n",
       "\\item 69\n",
       "\\item 104\n",
       "\\item 80\n",
       "\\item 79\n",
       "\\item 79\n",
       "\\item 54\n",
       "\\item 73\n",
       "\\item 59\n",
       "\\item 81\n",
       "\\item 100\n",
       "\\item 66\n",
       "\\item 49\n",
       "\\item 77\n",
       "\\item 90\n",
       "\\item 76\n",
       "\\item 76\n",
       "\\item 42\n",
       "\\item 64\n",
       "\\item 69\n",
       "\\item 70\n",
       "\\item 80\n",
       "\\item 72\n",
       "\\item 50\n",
       "\\item 79\n",
       "\\item 52\n",
       "\\item 96\n",
       "\\item 96\n",
       "\\item 51\n",
       "\\item 86\n",
       "\\item 78\n",
       "\\item 94\n",
       "\\item 71\n",
       "\\end{enumerate*}\n"
      ],
      "text/markdown": [
       "1. 42\n",
       "2. 74\n",
       "3. 40\n",
       "4. 60\n",
       "5. 82\n",
       "6. 115\n",
       "7. 41\n",
       "8. 61\n",
       "9. 75\n",
       "10. 83\n",
       "11. 63\n",
       "12. 53\n",
       "13. 110\n",
       "14. 76\n",
       "15. 84\n",
       "16. 50\n",
       "17. 67\n",
       "18. 65\n",
       "19. 78\n",
       "20. 77\n",
       "21. 56\n",
       "22. 95\n",
       "23. 68\n",
       "24. 69\n",
       "25. 104\n",
       "26. 80\n",
       "27. 79\n",
       "28. 79\n",
       "29. 54\n",
       "30. 73\n",
       "31. 59\n",
       "32. 81\n",
       "33. 100\n",
       "34. 66\n",
       "35. 49\n",
       "36. 77\n",
       "37. 90\n",
       "38. 76\n",
       "39. 76\n",
       "40. 42\n",
       "41. 64\n",
       "42. 69\n",
       "43. 70\n",
       "44. 80\n",
       "45. 72\n",
       "46. 50\n",
       "47. 79\n",
       "48. 52\n",
       "49. 96\n",
       "50. 96\n",
       "51. 51\n",
       "52. 86\n",
       "53. 78\n",
       "54. 94\n",
       "55. 71\n",
       "\n",
       "\n"
      ],
      "text/plain": [
       " [1]  42  74  40  60  82 115  41  61  75  83  63  53 110  76  84  50  67  65  78\n",
       "[20]  77  56  95  68  69 104  80  79  79  54  73  59  81 100  66  49  77  90  76\n",
       "[39]  76  42  64  69  70  80  72  50  79  52  96  96  51  86  78  94  71"
      ]
     },
     "metadata": {},
     "output_type": "display_data"
    }
   ],
   "source": [
    "x <- c(42, 74, 40, 60, 82, 115, 41, 61, 75, 83, 63, 53, 110, 76, 84, 50, 67, 65, 78, 77, 56, 95, 68, 69, 104, 80, 79, 79, 54, 73, 59, 81, 100, 66, 49, 77, 90, 76, 76, 42, 64, 69, 70, 80, 72, 50, 79, 52, 96, 96, 51, 86, 78, 94, 71)\n",
    "x\n"
   ]
  },
  {
   "cell_type": "code",
   "execution_count": 17,
   "id": "ea79cedd-b46a-4814-9724-46b2eafaa71b",
   "metadata": {
    "vscode": {
     "languageId": "r"
    }
   },
   "outputs": [
    {
     "data": {
      "text/html": [
       "55"
      ],
      "text/latex": [
       "55"
      ],
      "text/markdown": [
       "55"
      ],
      "text/plain": [
       "[1] 55"
      ]
     },
     "metadata": {},
     "output_type": "display_data"
    },
    {
     "data": {
      "text/html": [
       "42"
      ],
      "text/latex": [
       "42"
      ],
      "text/markdown": [
       "42"
      ],
      "text/plain": [
       "[1] 42"
      ]
     },
     "metadata": {},
     "output_type": "display_data"
    },
    {
     "data": {
      "text/html": [
       "<style>\n",
       ".list-inline {list-style: none; margin:0; padding: 0}\n",
       ".list-inline>li {display: inline-block}\n",
       ".list-inline>li:not(:last-child)::after {content: \"\\00b7\"; padding: 0 .5ex}\n",
       "</style>\n",
       "<ol class=list-inline><li>42</li><li>74</li><li>40</li><li>60</li><li>82</li></ol>\n"
      ],
      "text/latex": [
       "\\begin{enumerate*}\n",
       "\\item 42\n",
       "\\item 74\n",
       "\\item 40\n",
       "\\item 60\n",
       "\\item 82\n",
       "\\end{enumerate*}\n"
      ],
      "text/markdown": [
       "1. 42\n",
       "2. 74\n",
       "3. 40\n",
       "4. 60\n",
       "5. 82\n",
       "\n",
       "\n"
      ],
      "text/plain": [
       "[1] 42 74 40 60 82"
      ]
     },
     "metadata": {},
     "output_type": "display_data"
    },
    {
     "data": {
      "text/html": [
       "<style>\n",
       ".list-inline {list-style: none; margin:0; padding: 0}\n",
       ".list-inline>li {display: inline-block}\n",
       ".list-inline>li:not(:last-child)::after {content: \"\\00b7\"; padding: 0 .5ex}\n",
       "</style>\n",
       "<ol class=list-inline><li>42</li><li>71</li><li>94</li></ol>\n"
      ],
      "text/latex": [
       "\\begin{enumerate*}\n",
       "\\item 42\n",
       "\\item 71\n",
       "\\item 94\n",
       "\\end{enumerate*}\n"
      ],
      "text/markdown": [
       "1. 42\n",
       "2. 71\n",
       "3. 94\n",
       "\n",
       "\n"
      ],
      "text/plain": [
       "[1] 42 71 94"
      ]
     },
     "metadata": {},
     "output_type": "display_data"
    }
   ],
   "source": [
    "length(x)\n",
    "x[1]\n",
    "x[1:5]\n",
    "x[c(1, 55, 54)]\n"
   ]
  },
  {
   "cell_type": "code",
   "execution_count": 18,
   "id": "c091d059",
   "metadata": {
    "vscode": {
     "languageId": "r"
    }
   },
   "outputs": [
    {
     "data": {
      "text/html": [
       "<style>\n",
       ".list-inline {list-style: none; margin:0; padding: 0}\n",
       ".list-inline>li {display: inline-block}\n",
       ".list-inline>li:not(:last-child)::after {content: \"\\00b7\"; padding: 0 .5ex}\n",
       "</style>\n",
       "<ol class=list-inline><li>40</li><li>115</li></ol>\n"
      ],
      "text/latex": [
       "\\begin{enumerate*}\n",
       "\\item 40\n",
       "\\item 115\n",
       "\\end{enumerate*}\n"
      ],
      "text/markdown": [
       "1. 40\n",
       "2. 115\n",
       "\n",
       "\n"
      ],
      "text/plain": [
       "[1]  40 115"
      ]
     },
     "metadata": {},
     "output_type": "display_data"
    }
   ],
   "source": [
    "range(x)\n"
   ]
  },
  {
   "cell_type": "code",
   "execution_count": 19,
   "id": "2bec7357",
   "metadata": {
    "vscode": {
     "languageId": "r"
    }
   },
   "outputs": [
    {
     "data": {
      "text/html": [
       "<style>\n",
       ".list-inline {list-style: none; margin:0; padding: 0}\n",
       ".list-inline>li {display: inline-block}\n",
       ".list-inline>li:not(:last-child)::after {content: \"\\00b7\"; padding: 0 .5ex}\n",
       "</style>\n",
       "<ol class=list-inline><li>40</li><li>50</li><li>60</li><li>70</li><li>80</li><li>90</li><li>100</li><li>110</li><li>120</li></ol>\n"
      ],
      "text/latex": [
       "\\begin{enumerate*}\n",
       "\\item 40\n",
       "\\item 50\n",
       "\\item 60\n",
       "\\item 70\n",
       "\\item 80\n",
       "\\item 90\n",
       "\\item 100\n",
       "\\item 110\n",
       "\\item 120\n",
       "\\end{enumerate*}\n"
      ],
      "text/markdown": [
       "1. 40\n",
       "2. 50\n",
       "3. 60\n",
       "4. 70\n",
       "5. 80\n",
       "6. 90\n",
       "7. 100\n",
       "8. 110\n",
       "9. 120\n",
       "\n",
       "\n"
      ],
      "text/plain": [
       "[1]  40  50  60  70  80  90 100 110 120"
      ]
     },
     "metadata": {},
     "output_type": "display_data"
    }
   ],
   "source": [
    "breaks <- seq(40, 120, by = 10)\n",
    "breaks\n"
   ]
  },
  {
   "cell_type": "code",
   "execution_count": 20,
   "id": "dd0cb86d",
   "metadata": {
    "vscode": {
     "languageId": "r"
    }
   },
   "outputs": [
    {
     "data": {
      "text/html": [
       "<style>\n",
       ".list-inline {list-style: none; margin:0; padding: 0}\n",
       ".list-inline>li {display: inline-block}\n",
       ".list-inline>li:not(:last-child)::after {content: \"\\00b7\"; padding: 0 .5ex}\n",
       "</style>\n",
       "<ol class=list-inline><li>42</li><li>74</li><li>40</li><li>60</li><li>82</li><li>115</li><li>41</li><li>61</li><li>75</li><li>83</li><li>63</li><li>53</li><li>110</li><li>76</li><li>84</li><li>50</li><li>67</li><li>65</li><li>78</li><li>77</li><li>56</li><li>95</li><li>68</li><li>69</li><li>104</li><li>80</li><li>79</li><li>79</li><li>54</li><li>73</li><li>59</li><li>81</li><li>100</li><li>66</li><li>49</li><li>77</li><li>90</li><li>76</li><li>76</li><li>42</li><li>64</li><li>69</li><li>70</li><li>80</li><li>72</li><li>50</li><li>79</li><li>52</li><li>96</li><li>96</li><li>51</li><li>86</li><li>78</li><li>94</li><li>71</li></ol>\n"
      ],
      "text/latex": [
       "\\begin{enumerate*}\n",
       "\\item 42\n",
       "\\item 74\n",
       "\\item 40\n",
       "\\item 60\n",
       "\\item 82\n",
       "\\item 115\n",
       "\\item 41\n",
       "\\item 61\n",
       "\\item 75\n",
       "\\item 83\n",
       "\\item 63\n",
       "\\item 53\n",
       "\\item 110\n",
       "\\item 76\n",
       "\\item 84\n",
       "\\item 50\n",
       "\\item 67\n",
       "\\item 65\n",
       "\\item 78\n",
       "\\item 77\n",
       "\\item 56\n",
       "\\item 95\n",
       "\\item 68\n",
       "\\item 69\n",
       "\\item 104\n",
       "\\item 80\n",
       "\\item 79\n",
       "\\item 79\n",
       "\\item 54\n",
       "\\item 73\n",
       "\\item 59\n",
       "\\item 81\n",
       "\\item 100\n",
       "\\item 66\n",
       "\\item 49\n",
       "\\item 77\n",
       "\\item 90\n",
       "\\item 76\n",
       "\\item 76\n",
       "\\item 42\n",
       "\\item 64\n",
       "\\item 69\n",
       "\\item 70\n",
       "\\item 80\n",
       "\\item 72\n",
       "\\item 50\n",
       "\\item 79\n",
       "\\item 52\n",
       "\\item 96\n",
       "\\item 96\n",
       "\\item 51\n",
       "\\item 86\n",
       "\\item 78\n",
       "\\item 94\n",
       "\\item 71\n",
       "\\end{enumerate*}\n"
      ],
      "text/markdown": [
       "1. 42\n",
       "2. 74\n",
       "3. 40\n",
       "4. 60\n",
       "5. 82\n",
       "6. 115\n",
       "7. 41\n",
       "8. 61\n",
       "9. 75\n",
       "10. 83\n",
       "11. 63\n",
       "12. 53\n",
       "13. 110\n",
       "14. 76\n",
       "15. 84\n",
       "16. 50\n",
       "17. 67\n",
       "18. 65\n",
       "19. 78\n",
       "20. 77\n",
       "21. 56\n",
       "22. 95\n",
       "23. 68\n",
       "24. 69\n",
       "25. 104\n",
       "26. 80\n",
       "27. 79\n",
       "28. 79\n",
       "29. 54\n",
       "30. 73\n",
       "31. 59\n",
       "32. 81\n",
       "33. 100\n",
       "34. 66\n",
       "35. 49\n",
       "36. 77\n",
       "37. 90\n",
       "38. 76\n",
       "39. 76\n",
       "40. 42\n",
       "41. 64\n",
       "42. 69\n",
       "43. 70\n",
       "44. 80\n",
       "45. 72\n",
       "46. 50\n",
       "47. 79\n",
       "48. 52\n",
       "49. 96\n",
       "50. 96\n",
       "51. 51\n",
       "52. 86\n",
       "53. 78\n",
       "54. 94\n",
       "55. 71\n",
       "\n",
       "\n"
      ],
      "text/plain": [
       " [1]  42  74  40  60  82 115  41  61  75  83  63  53 110  76  84  50  67  65  78\n",
       "[20]  77  56  95  68  69 104  80  79  79  54  73  59  81 100  66  49  77  90  76\n",
       "[39]  76  42  64  69  70  80  72  50  79  52  96  96  51  86  78  94  71"
      ]
     },
     "metadata": {},
     "output_type": "display_data"
    }
   ],
   "source": [
    "x\n",
    "xcut <- cut(x, breaks, right = F)\n"
   ]
  },
  {
   "cell_type": "code",
   "execution_count": 21,
   "id": "9b6e719f",
   "metadata": {
    "vscode": {
     "languageId": "r"
    }
   },
   "outputs": [
    {
     "data": {
      "text/plain": [
       "xcut\n",
       "  [40,50)   [50,60)   [60,70)   [70,80)   [80,90)  [90,100) [100,110) [110,120) \n",
       "        5         8        10        16         7         5         2         2 "
      ]
     },
     "metadata": {},
     "output_type": "display_data"
    }
   ],
   "source": [
    "xf <- table(xcut)\n",
    "xf\n"
   ]
  },
  {
   "cell_type": "code",
   "execution_count": 22,
   "id": "2b82997f",
   "metadata": {
    "vscode": {
     "languageId": "r"
    }
   },
   "outputs": [
    {
     "data": {
      "image/png": "[encoded data removed]",
      "text/plain": [
       "Plot with title \"Histogram of x\""
      ]
     },
     "metadata": {
      "image/png": {
       "height": 420,
       "width": 420
      }
     },
     "output_type": "display_data"
    }
   ],
   "source": [
    "hist(x, right = F)\n"
   ]
  },
  {
   "cell_type": "code",
   "execution_count": 23,
   "id": "da194a4f",
   "metadata": {
    "vscode": {
     "languageId": "r"
    }
   },
   "outputs": [
    {
     "data": {
      "text/html": [
       "<style>\n",
       ".dl-inline {width: auto; margin:0; padding: 0}\n",
       ".dl-inline>dt, .dl-inline>dd {float: none; width: auto; display: inline-block}\n",
       ".dl-inline>dt::after {content: \":\\0020\"; padding-right: .5ex}\n",
       ".dl-inline>dt:not(:first-of-type) {padding-left: .5ex}\n",
       "</style><dl class=dl-inline><dt>[40,50)</dt><dd>5</dd><dt>[50,60)</dt><dd>13</dd><dt>[60,70)</dt><dd>23</dd><dt>[70,80)</dt><dd>39</dd><dt>[80,90)</dt><dd>46</dd><dt>[90,100)</dt><dd>51</dd><dt>[100,110)</dt><dd>53</dd><dt>[110,120)</dt><dd>55</dd></dl>\n"
      ],
      "text/latex": [
       "\\begin{description*}\n",
       "\\item[\\{{[}\\}40,50)] 5\n",
       "\\item[\\{{[}\\}50,60)] 13\n",
       "\\item[\\{{[}\\}60,70)] 23\n",
       "\\item[\\{{[}\\}70,80)] 39\n",
       "\\item[\\{{[}\\}80,90)] 46\n",
       "\\item[\\{{[}\\}90,100)] 51\n",
       "\\item[\\{{[}\\}100,110)] 53\n",
       "\\item[\\{{[}\\}110,120)] 55\n",
       "\\end{description*}\n"
      ],
      "text/markdown": [
       "[40,50)\n",
       ":   5[50,60)\n",
       ":   13[60,70)\n",
       ":   23[70,80)\n",
       ":   39[80,90)\n",
       ":   46[90,100)\n",
       ":   51[100,110)\n",
       ":   53[110,120)\n",
       ":   55\n",
       "\n"
      ],
      "text/plain": [
       "  [40,50)   [50,60)   [60,70)   [70,80)   [80,90)  [90,100) [100,110) [110,120) \n",
       "        5        13        23        39        46        51        53        55 "
      ]
     },
     "metadata": {},
     "output_type": "display_data"
    }
   ],
   "source": [
    "xcumfre <- cumsum(xf)\n",
    "xcumfre\n"
   ]
  },
  {
   "cell_type": "code",
   "execution_count": 24,
   "id": "bbfeb872",
   "metadata": {
    "vscode": {
     "languageId": "r"
    }
   },
   "outputs": [
    {
     "data": {
      "text/html": [
       "<table class=\"dataframe\">\n",
       "<caption>A matrix: 8 × 1 of type int</caption>\n",
       "<thead>\n",
       "\t<tr><th></th><th scope=col>xcumfre</th></tr>\n",
       "</thead>\n",
       "<tbody>\n",
       "\t<tr><th scope=row>[40,50)</th><td> 5</td></tr>\n",
       "\t<tr><th scope=row>[50,60)</th><td>13</td></tr>\n",
       "\t<tr><th scope=row>[60,70)</th><td>23</td></tr>\n",
       "\t<tr><th scope=row>[70,80)</th><td>39</td></tr>\n",
       "\t<tr><th scope=row>[80,90)</th><td>46</td></tr>\n",
       "\t<tr><th scope=row>[90,100)</th><td>51</td></tr>\n",
       "\t<tr><th scope=row>[100,110)</th><td>53</td></tr>\n",
       "\t<tr><th scope=row>[110,120)</th><td>55</td></tr>\n",
       "</tbody>\n",
       "</table>\n"
      ],
      "text/latex": [
       "A matrix: 8 × 1 of type int\n",
       "\\begin{tabular}{r|l}\n",
       "  & xcumfre\\\\\n",
       "\\hline\n",
       "\t{[}40,50) &  5\\\\\n",
       "\t{[}50,60) & 13\\\\\n",
       "\t{[}60,70) & 23\\\\\n",
       "\t{[}70,80) & 39\\\\\n",
       "\t{[}80,90) & 46\\\\\n",
       "\t{[}90,100) & 51\\\\\n",
       "\t{[}100,110) & 53\\\\\n",
       "\t{[}110,120) & 55\\\\\n",
       "\\end{tabular}\n"
      ],
      "text/markdown": [
       "\n",
       "A matrix: 8 × 1 of type int\n",
       "\n",
       "| <!--/--> | xcumfre |\n",
       "|---|---|\n",
       "| [40,50) |  5 |\n",
       "| [50,60) | 13 |\n",
       "| [60,70) | 23 |\n",
       "| [70,80) | 39 |\n",
       "| [80,90) | 46 |\n",
       "| [90,100) | 51 |\n",
       "| [100,110) | 53 |\n",
       "| [110,120) | 55 |\n",
       "\n"
      ],
      "text/plain": [
       "          xcumfre\n",
       "[40,50)    5     \n",
       "[50,60)   13     \n",
       "[60,70)   23     \n",
       "[70,80)   39     \n",
       "[80,90)   46     \n",
       "[90,100)  51     \n",
       "[100,110) 53     \n",
       "[110,120) 55     "
      ]
     },
     "metadata": {},
     "output_type": "display_data"
    }
   ],
   "source": [
    "cbind(xcumfre)\n"
   ]
  },
  {
   "cell_type": "code",
   "execution_count": 25,
   "id": "550e187c",
   "metadata": {
    "vscode": {
     "languageId": "r"
    }
   },
   "outputs": [
    {
     "data": {
      "text/html": [
       "<style>\n",
       ".dl-inline {width: auto; margin:0; padding: 0}\n",
       ".dl-inline>dt, .dl-inline>dd {float: none; width: auto; display: inline-block}\n",
       ".dl-inline>dt::after {content: \":\\0020\"; padding-right: .5ex}\n",
       ".dl-inline>dt:not(:first-of-type) {padding-left: .5ex}\n",
       "</style><dl class=dl-inline><dt>1</dt><dd>0</dd><dt>[40,50)</dt><dd>5</dd><dt>[50,60)</dt><dd>13</dd><dt>[60,70)</dt><dd>23</dd><dt>[70,80)</dt><dd>39</dd><dt>[80,90)</dt><dd>46</dd><dt>[90,100)</dt><dd>51</dd><dt>[100,110)</dt><dd>53</dd><dt>[110,120)</dt><dd>55</dd></dl>\n"
      ],
      "text/latex": [
       "\\begin{description*}\n",
       "\\item[1] 0\n",
       "\\item[\\{{[}\\}40,50)] 5\n",
       "\\item[\\{{[}\\}50,60)] 13\n",
       "\\item[\\{{[}\\}60,70)] 23\n",
       "\\item[\\{{[}\\}70,80)] 39\n",
       "\\item[\\{{[}\\}80,90)] 46\n",
       "\\item[\\{{[}\\}90,100)] 51\n",
       "\\item[\\{{[}\\}100,110)] 53\n",
       "\\item[\\{{[}\\}110,120)] 55\n",
       "\\end{description*}\n"
      ],
      "text/markdown": [
       "1\n",
       ":   0[40,50)\n",
       ":   5[50,60)\n",
       ":   13[60,70)\n",
       ":   23[70,80)\n",
       ":   39[80,90)\n",
       ":   46[90,100)\n",
       ":   51[100,110)\n",
       ":   53[110,120)\n",
       ":   55\n",
       "\n"
      ],
      "text/plain": [
       "            [40,50)   [50,60)   [60,70)   [70,80)   [80,90)  [90,100) [100,110) \n",
       "        0         5        13        23        39        46        51        53 \n",
       "[110,120) \n",
       "       55 "
      ]
     },
     "metadata": {},
     "output_type": "display_data"
    }
   ],
   "source": [
    "cumgp <- c(0, xcumfre)\n",
    "cumgp\n"
   ]
  },
  {
   "cell_type": "code",
   "execution_count": 26,
   "id": "d13373e6",
   "metadata": {
    "vscode": {
     "languageId": "r"
    }
   },
   "outputs": [
    {
     "data": {
      "image/png": "[encoded data removed]",
      "text/plain": [
       "plot without title"
      ]
     },
     "metadata": {
      "image/png": {
       "height": 420,
       "width": 420
      }
     },
     "output_type": "display_data"
    }
   ],
   "source": [
    "# Plot the line graph\n",
    "plot(breaks, cumgp, type = \"l\", col = \"blue\", xlab = \"Breaks\", ylab = \"Cumulative GP\")\n",
    "\n",
    "lines(breaks, cumgp)\n"
   ]
  },
  {
   "cell_type": "code",
   "execution_count": 27,
   "id": "8bc77df5",
   "metadata": {
    "vscode": {
     "languageId": "r"
    }
   },
   "outputs": [
    {
     "data": {
      "text/html": [
       "74"
      ],
      "text/latex": [
       "74"
      ],
      "text/markdown": [
       "74"
      ],
      "text/plain": [
       "[1] 74"
      ]
     },
     "metadata": {},
     "output_type": "display_data"
    }
   ],
   "source": [
    "# Calculate the median\n",
    "median_x <- median(x)\n",
    "median_x\n"
   ]
  },
  {
   "cell_type": "code",
   "execution_count": 28,
   "id": "5f4fa24c",
   "metadata": {
    "vscode": {
     "languageId": "r"
    }
   },
   "outputs": [
    {
     "data": {
      "text/html": [
       "<strong>[70,80):</strong> 4"
      ],
      "text/latex": [
       "\\textbf{\\{{[}\\}70,80):} 4"
      ],
      "text/markdown": [
       "**[70,80):** 4"
      ],
      "text/plain": [
       "[70,80) \n",
       "      4 "
      ]
     },
     "metadata": {},
     "output_type": "display_data"
    }
   ],
   "source": [
    "# Calculate the mode\n",
    "mode_class_x <- which.max(xf)\n",
    "mode_class_x\n"
   ]
  },
  {
   "cell_type": "code",
   "execution_count": 29,
   "id": "ca832fd7",
   "metadata": {
    "vscode": {
     "languageId": "r"
    }
   },
   "outputs": [
    {
     "data": {
      "text/html": [
       "'[70,80)'"
      ],
      "text/latex": [
       "'{[}70,80)'"
      ],
      "text/markdown": [
       "'[70,80)'"
      ],
      "text/plain": [
       "[1] \"[70,80)\""
      ]
     },
     "metadata": {},
     "output_type": "display_data"
    }
   ],
   "source": [
    "mode_interval_x <- names(xf)[mode_class_x]\n",
    "mode_interval_x\n"
   ]
  },
  {
   "cell_type": "code",
   "execution_count": 31,
   "id": "68b92212",
   "metadata": {
    "vscode": {
     "languageId": "r"
    }
   },
   "outputs": [
    {
     "data": {
      "text/html": [
       "70"
      ],
      "text/latex": [
       "70"
      ],
      "text/markdown": [
       "70"
      ],
      "text/plain": [
       "[1] 70"
      ]
     },
     "metadata": {},
     "output_type": "display_data"
    },
    {
     "data": {
      "text/html": [
       "80"
      ],
      "text/latex": [
       "80"
      ],
      "text/markdown": [
       "80"
      ],
      "text/plain": [
       "[1] 80"
      ]
     },
     "metadata": {},
     "output_type": "display_data"
    }
   ],
   "source": [
    "mode_start_x <- as.numeric(sub(\"\\\\[([0-9]+),.*\", \"\\\\1\", mode_interval_x)) # Extract lower bound\n",
    "mode_end_x <- as.numeric(sub(\".*,([0-9]+)\\\\)\", \"\\\\1\", mode_interval_x)) # Extract upper bound\n",
    "\n",
    "mode_start_x\n",
    "mode_end_x\n"
   ]
  }
 ],
 "metadata": {
  "kernelspec": {
   "display_name": "R",
   "language": "R",
   "name": "ir"
  },
  "language_info": {
   "codemirror_mode": "r",
   "file_extension": ".r",
   "mimetype": "text/x-r-source",
   "name": "R",
   "pygments_lexer": "r",
   "version": "4.4.3"
  }
 },
 "nbformat": 4,
 "nbformat_minor": 5
}
