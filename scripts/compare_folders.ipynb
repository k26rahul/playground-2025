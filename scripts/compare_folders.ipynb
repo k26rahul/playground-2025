{
 "cells": [
  {
   "cell_type": "code",
   "execution_count": 21,
   "metadata": {},
   "outputs": [],
   "source": [
    "def compare_folders(left_folder, right_folder):\n",
    "  import os\n",
    "  from os import path\n",
    "\n",
    "  right_folder_file_sizes = {}\n",
    "\n",
    "  for f in os.listdir(right_folder):\n",
    "    f_fullpath = path.join(right_folder, f)\n",
    "    if path.isfile(f_fullpath):\n",
    "      right_folder_file_sizes[f] = path.getsize(f_fullpath)\n",
    "\n",
    "  missing_files = []\n",
    "  size_mismatch = []\n",
    "  found_files = 0\n",
    "\n",
    "  for f in os.listdir(left_folder):\n",
    "    f_fullpath = path.join(left_folder, f)\n",
    "\n",
    "    if not path.isfile(f_fullpath):\n",
    "      continue\n",
    "\n",
    "    if f not in right_folder_file_sizes:\n",
    "      missing_files.append(f)\n",
    "      continue\n",
    "\n",
    "    found_files += 1\n",
    "\n",
    "    size = path.getsize(f_fullpath)\n",
    "    if size != right_folder_file_sizes[f]:\n",
    "      size_mismatch.append(f)\n",
    "\n",
    "  print(\"Total files in left folder:\", len(os.listdir(left_folder)))\n",
    "  print(\"Total files in right folder:\", len(os.listdir(right_folder)))\n",
    "  print(\"Files from left folder found in right folder:\", found_files)\n",
    "  print()\n",
    "\n",
    "  print(f\"Missing files ({len(missing_files)}):\")\n",
    "  for f in missing_files:\n",
    "    print(f)\n",
    "  print()\n",
    "\n",
    "  print(f\"Files with size mismatch ({len(size_mismatch)}):\")\n",
    "  for f in size_mismatch:\n",
    "    print(f)\n",
    "  print()"
   ]
  },
  {
   "cell_type": "code",
   "execution_count": 23,
   "metadata": {},
   "outputs": [
    {
     "ename": "FileNotFoundError",
     "evalue": "[WinError 3] The system cannot find the path specified: 'C:\\\\Users\\\\k26ra\\\\Downloads\\\\DL - Copy'",
     "output_type": "error",
     "traceback": [
      "\u001b[1;31m---------------------------------------------------------------------------\u001b[0m",
      "\u001b[1;31mFileNotFoundError\u001b[0m                         Traceback (most recent call last)",
      "Cell \u001b[1;32mIn[23], line 4\u001b[0m\n\u001b[0;32m      1\u001b[0m left_folder \u001b[38;5;241m=\u001b[39m \u001b[38;5;124mr\u001b[39m\u001b[38;5;124m'\u001b[39m\u001b[38;5;124mC:\u001b[39m\u001b[38;5;124m\\\u001b[39m\u001b[38;5;124mUsers\u001b[39m\u001b[38;5;124m\\\u001b[39m\u001b[38;5;124mk26ra\u001b[39m\u001b[38;5;124m\\\u001b[39m\u001b[38;5;124mDownloads\u001b[39m\u001b[38;5;124m\\\u001b[39m\u001b[38;5;124mDL - Copy\u001b[39m\u001b[38;5;124m'\u001b[39m\n\u001b[0;32m      2\u001b[0m right_folder \u001b[38;5;241m=\u001b[39m \u001b[38;5;124mr\u001b[39m\u001b[38;5;124m'\u001b[39m\u001b[38;5;124mC:\u001b[39m\u001b[38;5;124m\\\u001b[39m\u001b[38;5;124mUsers\u001b[39m\u001b[38;5;124m\\\u001b[39m\u001b[38;5;124mk26ra\u001b[39m\u001b[38;5;124m\\\u001b[39m\u001b[38;5;124mDownloads\u001b[39m\u001b[38;5;124m\\\u001b[39m\u001b[38;5;124mDL\u001b[39m\u001b[38;5;124m'\u001b[39m\n\u001b[1;32m----> 4\u001b[0m \u001b[43mcompare_folders\u001b[49m\u001b[43m(\u001b[49m\u001b[43mleft_folder\u001b[49m\u001b[43m,\u001b[49m\u001b[43m \u001b[49m\u001b[43mright_folder\u001b[49m\u001b[43m)\u001b[49m\n",
      "Cell \u001b[1;32mIn[21], line 16\u001b[0m, in \u001b[0;36mcompare_folders\u001b[1;34m(left_folder, right_folder)\u001b[0m\n\u001b[0;32m     13\u001b[0m size_mismatch \u001b[38;5;241m=\u001b[39m []\n\u001b[0;32m     14\u001b[0m found_files \u001b[38;5;241m=\u001b[39m \u001b[38;5;241m0\u001b[39m\n\u001b[1;32m---> 16\u001b[0m \u001b[38;5;28;01mfor\u001b[39;00m f \u001b[38;5;129;01min\u001b[39;00m \u001b[43mos\u001b[49m\u001b[38;5;241;43m.\u001b[39;49m\u001b[43mlistdir\u001b[49m\u001b[43m(\u001b[49m\u001b[43mleft_folder\u001b[49m\u001b[43m)\u001b[49m:\n\u001b[0;32m     17\u001b[0m   f_fullpath \u001b[38;5;241m=\u001b[39m path\u001b[38;5;241m.\u001b[39mjoin(left_folder, f)\n\u001b[0;32m     19\u001b[0m   \u001b[38;5;28;01mif\u001b[39;00m \u001b[38;5;129;01mnot\u001b[39;00m path\u001b[38;5;241m.\u001b[39misfile(f_fullpath):\n",
      "\u001b[1;31mFileNotFoundError\u001b[0m: [WinError 3] The system cannot find the path specified: 'C:\\\\Users\\\\k26ra\\\\Downloads\\\\DL - Copy'"
     ]
    }
   ],
   "source": [
    "left_folder = r'C:\\Users\\k26ra\\Downloads\\DL - Copy'\n",
    "right_folder = r'C:\\Users\\k26ra\\Downloads\\DL'\n",
    "\n",
    "compare_folders(left_folder, right_folder)"
   ]
  }
 ],
 "metadata": {
  "kernelspec": {
   "display_name": "Python 3",
   "language": "python",
   "name": "python3"
  },
  "language_info": {
   "codemirror_mode": {
    "name": "ipython",
    "version": 3
   },
   "file_extension": ".py",
   "mimetype": "text/x-python",
   "name": "python",
   "nbconvert_exporter": "python",
   "pygments_lexer": "ipython3",
   "version": "3.12.6"
  }
 },
 "nbformat": 4,
 "nbformat_minor": 2
}
