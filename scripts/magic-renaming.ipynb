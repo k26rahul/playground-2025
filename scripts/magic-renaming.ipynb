{
 "cells": [
  {
   "cell_type": "markdown",
   "id": "02ea0daf",
   "metadata": {},
   "source": [
    "# Auto-Rename Files Missing Extensions\n",
    "This notebook provides a function to automatically rename files in a folder that are missing extensions, using the Python Magic library to detect file types.\n",
    "\n",
    "https://stackoverflow.com/a/48790592"
   ]
  },
  {
   "cell_type": "code",
   "execution_count": 10,
   "id": "89ef33b8",
   "metadata": {},
   "outputs": [],
   "source": [
    "import os\n",
    "import magic"
   ]
  },
  {
   "cell_type": "code",
   "execution_count": 11,
   "id": "dc001aec",
   "metadata": {},
   "outputs": [],
   "source": [
    "# Map of common document MIME types to file extensions\n",
    "MIME_TO_EXT = {\n",
    "    'application/pdf': '.pdf',\n",
    "    'application/msword': '.doc',\n",
    "    'application/vnd.openxmlformats-officedocument.wordprocessingml.document': '.docx',\n",
    "    'application/vnd.ms-excel': '.xls',\n",
    "    'application/vnd.openxmlformats-officedocument.spreadsheetml.sheet': '.xlsx',\n",
    "    'application/vnd.ms-powerpoint': '.ppt',\n",
    "    'application/vnd.openxmlformats-officedocument.presentationml.presentation': '.pptx',\n",
    "    'text/plain': '.txt',\n",
    "    'application/rtf': '.rtf',\n",
    "    'application/vnd.oasis.opendocument.text': '.odt',\n",
    "    'application/vnd.oasis.opendocument.spreadsheet': '.ods',\n",
    "    'application/vnd.oasis.opendocument.presentation': '.odp',\n",
    "    'application/epub+zip': '.epub',\n",
    "    'text/csv': '.csv',\n",
    "    'application/zip': '.zip',\n",
    "    'audio/x-wav': '.wav',\n",
    "    'audio/mpeg': '.mp3',\n",
    "    'audio/ogg': '.ogg',\n",
    "    'image/jpeg': '.jpeg',\n",
    "    # Add more as needed\n",
    "}"
   ]
  },
  {
   "cell_type": "code",
   "execution_count": 12,
   "id": "920cf445",
   "metadata": {},
   "outputs": [],
   "source": [
    "def rename_files_missing_extension(folder_path):\n",
    "  \"\"\"\n",
    "  Renames files in the given folder that are missing an extension,\n",
    "  using python-magic to detect the MIME type and a mapping to set the extension.\n",
    "  \"\"\"\n",
    "  mime = magic.Magic(mime=True)\n",
    "  for filename in os.listdir(folder_path):\n",
    "    file_path = os.path.join(folder_path, filename)\n",
    "    if os.path.isfile(file_path) and '.' not in filename:\n",
    "      try:\n",
    "        detected_mime = mime.from_file(file_path)\n",
    "        ext = MIME_TO_EXT.get(detected_mime)\n",
    "        if ext:\n",
    "          new_file_path = file_path + ext\n",
    "          if not os.path.exists(new_file_path):\n",
    "            os.rename(file_path, new_file_path)\n",
    "            print(f\"Renamed: {filename} -> {os.path.basename(new_file_path)}\")\n",
    "          else:\n",
    "            print(f\"Skipped (target exists): {filename}\")\n",
    "        else:\n",
    "          print(f\"Unknown MIME type for {filename}: {detected_mime}\")\n",
    "      except Exception as e:\n",
    "        print(f\"Error processing {filename}: {e}\")"
   ]
  },
  {
   "cell_type": "code",
   "execution_count": 13,
   "id": "19a1dd22",
   "metadata": {},
   "outputs": [
    {
     "name": "stdout",
     "output_type": "stream",
     "text": [
      "Renamed: DOC-20230420-WA0107jpeg -> DOC-20230420-WA0107jpeg.jpeg\n",
      "Renamed: DOC-20230501-WA0038jpeg -> DOC-20230501-WA0038jpeg.jpeg\n"
     ]
    }
   ],
   "source": [
    "rename_files_missing_extension(r'E:\\Media\\Realme-7\\2021-22-23\\WhatsApp\\2023-05-14\\WhatsApp Documents\\Sent')"
   ]
  }
 ],
 "metadata": {
  "kernelspec": {
   "display_name": "Python 3",
   "language": "python",
   "name": "python3"
  },
  "language_info": {
   "codemirror_mode": {
    "name": "ipython",
    "version": 3
   },
   "file_extension": ".py",
   "mimetype": "text/x-python",
   "name": "python",
   "nbconvert_exporter": "python",
   "pygments_lexer": "ipython3",
   "version": "3.12.6"
  }
 },
 "nbformat": 4,
 "nbformat_minor": 5
}
