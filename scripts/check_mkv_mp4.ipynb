{
 "cells": [
  {
   "cell_type": "code",
   "execution_count": 2,
   "metadata": {},
   "outputs": [
    {
     "name": "stdout",
     "output_type": "stream",
     "text": [
      "Processing file: 2025-02-08 21-28-12\n",
      "Processing file: 2025-02-08 22-37-35\n",
      "Processing file: 2025-02-09 09-52-31\n",
      "Processing file: 2025-02-09 17-37-43\n",
      "\n",
      "Total MKV files: 4\n",
      "Missing MP4 files: 0\n",
      "Duration mismatch files: 0\n",
      "\n",
      "\n",
      "✅ OK\n"
     ]
    }
   ],
   "source": [
    "from os import path, listdir\n",
    "from moviepy import VideoFileClip\n",
    "\n",
    "\n",
    "def check_mkv_mp4(folder_path):\n",
    "  mkv_files = {f[:-4]: path.join(folder_path, f) for f in listdir(folder_path) if f.endswith(\".mkv\")}\n",
    "  mp4_files = {f[:-4]: path.join(folder_path, f) for f in listdir(folder_path) if f.endswith(\".mp4\")}\n",
    "\n",
    "  def get_video_duration(file_path):\n",
    "    try:\n",
    "      with VideoFileClip(file_path) as clip:\n",
    "        return clip.duration\n",
    "    except Exception:\n",
    "      return \"NA\"\n",
    "\n",
    "  missing_mp4_files = []\n",
    "  duration_mismatch_files = []\n",
    "\n",
    "  for f in mkv_files:\n",
    "    print(f\"Processing file: {f}\")\n",
    "    if f not in mp4_files:\n",
    "      missing_mp4_files.append(f)\n",
    "      continue\n",
    "\n",
    "    mkv_duration = get_video_duration(mkv_files[f])\n",
    "    mp4_duration = get_video_duration(mp4_files[f])\n",
    "    if mkv_duration != mp4_duration:\n",
    "      duration_mismatch_files.append(f)\n",
    "\n",
    "  print()\n",
    "  print(f\"Total MKV files: {len(mkv_files)}\")\n",
    "  print(f\"Missing MP4 files: {len(missing_mp4_files)}\")\n",
    "  print(f\"Duration mismatch files: {len(duration_mismatch_files)}\\n\")\n",
    "\n",
    "  files_with_issues = set(missing_mp4_files).union(duration_mismatch_files)\n",
    "  for f in sorted(files_with_issues):\n",
    "    if f in missing_mp4_files:\n",
    "      print(f\"{f}: missing MP4\")\n",
    "    elif f in duration_mismatch_files:\n",
    "      print(f\"{f}: duration mismatch\")\n",
    "\n",
    "  print(\"\\n✅ OK\" if not files_with_issues else \"⚠️ Warning: Issues found\")\n",
    "\n",
    "\n",
    "check_mkv_mp4(r\"C:\\Users\\k26ra\\Videos\")"
   ]
  }
 ],
 "metadata": {
  "kernelspec": {
   "display_name": "Python 3",
   "language": "python",
   "name": "python3"
  },
  "language_info": {
   "codemirror_mode": {
    "name": "ipython",
    "version": 3
   },
   "file_extension": ".py",
   "mimetype": "text/x-python",
   "name": "python",
   "nbconvert_exporter": "python",
   "pygments_lexer": "ipython3",
   "version": "3.12.6"
  }
 },
 "nbformat": 4,
 "nbformat_minor": 2
}
