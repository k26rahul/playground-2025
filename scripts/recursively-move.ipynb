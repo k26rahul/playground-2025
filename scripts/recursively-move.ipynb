{
 "cells": [
  {
   "cell_type": "code",
   "execution_count": 1,
   "id": "768dbaa4",
   "metadata": {},
   "outputs": [],
   "source": [
    "import os\n",
    "import shutil\n",
    "\n",
    "\n",
    "def move_all_files_recursive(src_folder, dst_folder):\n",
    "  \"\"\"\n",
    "  Recursively moves all files from src_folder (including subfolders) to dst_folder.\n",
    "  Does NOT preserve subfolder structure.\n",
    "  Skips files if they already exist in dst_folder.\n",
    "  Prints the number of files moved and skipped.\n",
    "  \"\"\"\n",
    "  moved_count = 0\n",
    "  skipped_count = 0\n",
    "  for root, dirs, files in os.walk(src_folder):\n",
    "    for file in files:\n",
    "      src_file = os.path.join(root, file)\n",
    "      dst_file = os.path.join(dst_folder, file)\n",
    "      if os.path.exists(dst_file):\n",
    "        skipped_count += 1\n",
    "        continue\n",
    "      os.makedirs(dst_folder, exist_ok=True)\n",
    "      shutil.move(src_file, dst_file)\n",
    "      moved_count += 1\n",
    "  print(f\"Moved: {moved_count} files\")\n",
    "  print(f\"Skipped: {skipped_count} files\")"
   ]
  },
  {
   "cell_type": "code",
   "execution_count": 2,
   "id": "60b292e8",
   "metadata": {},
   "outputs": [
    {
     "name": "stdout",
     "output_type": "stream",
     "text": [
      "Moved: 738 files\n",
      "Skipped: 0 files\n"
     ]
    }
   ],
   "source": [
    "move_all_files_recursive(\n",
    "    r'E:\\Media\\Realme-7\\2021-22-23\\WhatsApp\\2023-05-14\\WhatsApp Voice Notes',\n",
    "    r'E:\\Media\\Realme-7\\2021-22-23\\WhatsApp\\Voice Notes'\n",
    ")"
   ]
  }
 ],
 "metadata": {
  "kernelspec": {
   "display_name": "Python 3",
   "language": "python",
   "name": "python3"
  },
  "language_info": {
   "codemirror_mode": {
    "name": "ipython",
    "version": 3
   },
   "file_extension": ".py",
   "mimetype": "text/x-python",
   "name": "python",
   "nbconvert_exporter": "python",
   "pygments_lexer": "ipython3",
   "version": "3.12.6"
  }
 },
 "nbformat": 4,
 "nbformat_minor": 5
}
