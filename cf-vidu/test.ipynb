{
 "cells": [
  {
   "cell_type": "code",
   "execution_count": 35,
   "id": "5c20d6a0",
   "metadata": {},
   "outputs": [
    {
     "data": {
      "text/plain": [
       "'1012'"
      ]
     },
     "execution_count": 35,
     "metadata": {},
     "output_type": "execute_result"
    }
   ],
   "source": [
    "mapping = {\n",
    "    \".\": '0',\n",
    "    \"-.\": '1',\n",
    "    \"--\": '2'\n",
    "}\n",
    "\n",
    "message = '-..-.--'\n",
    "\n",
    "encoded = ''\n",
    "\n",
    "i = 0\n",
    "while i < len(message):\n",
    "  unit1 = message[i]\n",
    "  if unit1 in mapping:\n",
    "    encoded += mapping[unit1]\n",
    "    i += 1\n",
    "    continue\n",
    "\n",
    "  if i < len(message)-1:\n",
    "    unit2 = message[i] + message[i+1]\n",
    "    if unit2 in mapping:\n",
    "      encoded += mapping[unit2]\n",
    "      i += 2\n",
    "\n",
    "encoded"
   ]
  }
 ],
 "metadata": {
  "kernelspec": {
   "display_name": "Python 3",
   "language": "python",
   "name": "python3"
  },
  "language_info": {
   "codemirror_mode": {
    "name": "ipython",
    "version": 3
   },
   "file_extension": ".py",
   "mimetype": "text/x-python",
   "name": "python",
   "nbconvert_exporter": "python",
   "pygments_lexer": "ipython3",
   "version": "3.12.6"
  }
 },
 "nbformat": 4,
 "nbformat_minor": 5
}
