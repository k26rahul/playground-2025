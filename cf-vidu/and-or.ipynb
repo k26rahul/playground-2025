{
 "cells": [
  {
   "cell_type": "code",
   "execution_count": 1,
   "metadata": {},
   "outputs": [],
   "source": [
    "def task1():\n",
    "  print('task 1 running')\n",
    "  return False\n",
    "\n",
    "\n",
    "def task2():\n",
    "  print('task 2 running')\n",
    "  return True"
   ]
  },
  {
   "cell_type": "code",
   "execution_count": 2,
   "metadata": {},
   "outputs": [
    {
     "name": "stdout",
     "output_type": "stream",
     "text": [
      "task 1 running\n"
     ]
    },
    {
     "data": {
      "text/plain": [
       "False"
      ]
     },
     "execution_count": 2,
     "metadata": {},
     "output_type": "execute_result"
    }
   ],
   "source": [
    "task1() and task2()"
   ]
  },
  {
   "cell_type": "code",
   "execution_count": 3,
   "metadata": {},
   "outputs": [
    {
     "name": "stdout",
     "output_type": "stream",
     "text": [
      "task 1 running\n",
      "task 2 running\n"
     ]
    },
    {
     "data": {
      "text/plain": [
       "True"
      ]
     },
     "execution_count": 3,
     "metadata": {},
     "output_type": "execute_result"
    }
   ],
   "source": [
    "task1() or task2()"
   ]
  },
  {
   "cell_type": "code",
   "execution_count": 4,
   "metadata": {},
   "outputs": [
    {
     "name": "stdout",
     "output_type": "stream",
     "text": [
      "is_legal_adult running!!\n"
     ]
    }
   ],
   "source": [
    "age = 15\n",
    "\n",
    "\n",
    "def is_legal_adult(age):\n",
    "  print('is_legal_adult running!!')\n",
    "  return age > 18\n",
    "\n",
    "\n",
    "def is_above_24(age):\n",
    "  print('is_above_24 running!!')\n",
    "  return age > 24\n",
    "\n",
    "\n",
    "if (is_legal_adult(age) and is_above_24(age)):\n",
    "  print('u are welcome')"
   ]
  }
 ],
 "metadata": {
  "kernelspec": {
   "display_name": "Python 3",
   "language": "python",
   "name": "python3"
  },
  "language_info": {
   "codemirror_mode": {
    "name": "ipython",
    "version": 3
   },
   "file_extension": ".py",
   "mimetype": "text/x-python",
   "name": "python",
   "nbconvert_exporter": "python",
   "pygments_lexer": "ipython3",
   "version": "3.12.6"
  }
 },
 "nbformat": 4,
 "nbformat_minor": 2
}
