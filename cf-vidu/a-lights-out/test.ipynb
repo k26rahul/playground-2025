{
 "cells": [
  {
   "cell_type": "code",
   "execution_count": 27,
   "id": "6b823e9f",
   "metadata": {},
   "outputs": [
    {
     "name": "stdout",
     "output_type": "stream",
     "text": [
      "010\n",
      "011\n",
      "100\n"
     ]
    }
   ],
   "source": [
    "grid = [\n",
    "    [1, 1, 1],\n",
    "    [1, 1, 1],\n",
    "    [1, 1, 1],\n",
    "]\n",
    "\n",
    "pressed = [\n",
    "    [1, 0, 1],\n",
    "    [8, 8, 8],\n",
    "    [2, 0, 3],\n",
    "]\n",
    "\n",
    "\n",
    "def toggle(i, j):\n",
    "  if 0 <= i < 3 and 0 <= j < 3:\n",
    "    grid[i][j] = 1 if grid[i][j] == 0 else 0\n",
    "\n",
    "\n",
    "for i in range(3):\n",
    "  for j in range(3):\n",
    "    pressed_count = pressed[i][j]\n",
    "    if pressed_count % 2 == 1:\n",
    "      toggle(i, j)\n",
    "      toggle(i, j-1)  # left\n",
    "      toggle(i, j+1)  # right\n",
    "      toggle(i-1, j)  # up\n",
    "      toggle(i+1, j)  # down\n",
    "\n",
    "for row in grid:\n",
    "  print(''.join([str(num) for num in row]))"
   ]
  }
 ],
 "metadata": {
  "kernelspec": {
   "display_name": "Python 3",
   "language": "python",
   "name": "python3"
  },
  "language_info": {
   "codemirror_mode": {
    "name": "ipython",
    "version": 3
   },
   "file_extension": ".py",
   "mimetype": "text/x-python",
   "name": "python",
   "nbconvert_exporter": "python",
   "pygments_lexer": "ipython3",
   "version": "3.12.6"
  }
 },
 "nbformat": 4,
 "nbformat_minor": 5
}
